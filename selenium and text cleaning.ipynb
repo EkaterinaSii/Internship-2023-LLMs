{
 "cells": [
  {
   "cell_type": "code",
   "execution_count": 3,
   "id": "6f6628e8-95f6-4b26-9735-35b05265f9c2",
   "metadata": {},
   "outputs": [],
   "source": [
    "from parsel import Selector\n",
    "from selenium import webdriver\n",
    "from selenium.webdriver.common.by import By\n",
    "from selenium.webdriver.chrome.options import Options\n",
    "from selenium.webdriver.support.ui import WebDriverWait\n",
    "from selenium.webdriver.support import expected_conditions as EC\n",
    "\n",
    "from bs4 import BeautifulSoup\n",
    "from re import search\n",
    "import re"
   ]
  },
  {
   "cell_type": "code",
   "execution_count": 9,
   "id": "cf5ca70a-9159-4fd5-8f09-a824541d6c3c",
   "metadata": {},
   "outputs": [],
   "source": [
    "# link = \"https://www.samk.fi/en/study/bachelor-degree\"\n",
    "# link_list = link.split('/')\n",
    "\n",
    "# name = link_list[-1]\n",
    "# try:\n",
    "#     with open('SAMK/final_links2.txt','r') as file:\n",
    "#         for link in file:\n",
    "#             names = link.split('/')\n",
    "#             name = names[-1]\n",
    "#             name = name.replace('\\n','')\n",
    "\n",
    "#             driver = page_source(link)\n",
    "#             soup = BeautifulSoup(driver.page_source, \"html.parser\")\n",
    "#             main_cleaning(soup)\n",
    "#             #custom_clean(soup)\n",
    "#             text = clean_n(soup.text)\n",
    "#             make_file(name,text)\n",
    "#             print(f'### FILE {name} DONE ###')\n",
    "            \n",
    "# except AttributeError:\n",
    "#     print(f'something wrong with {name} file')\n",
    "#     pass\n",
    "\n",
    "# links = [\"https://www.samk.fi/en/study/bachelor-degree\"]\n",
    "\n",
    "# for link in links:\n",
    "    \n",
    "    "
   ]
  },
  {
   "cell_type": "code",
   "execution_count": 15,
   "id": "e2460d41-f7a3-4476-aaca-05448d3acc51",
   "metadata": {},
   "outputs": [],
   "source": [
    "with open('SAMK/final_links2.txt', 'r') as file:\n",
    "        for link in file:\n",
    "            names = link.split('/')\n",
    "            name = names[-1]\n",
    "            name = name.replace('\\n', '')\n",
    "\n",
    "            try:\n",
    "                driver = page_source(link)\n",
    "                soup = BeautifulSoup(driver.page_source, \"html.parser\")\n",
    "                main_cleaning(soup)\n",
    "                # custom_clean(soup)\n",
    "                text = clean_n(soup.text)\n",
    "                make_file(name, text)\n",
    "                print(f'### FILE {name} DONE ###')\n",
    "            except AttributeError:\n",
    "                print(f'Something wrong with {name} file')\n",
    "                continue"
   ]
  },
  {
   "cell_type": "code",
   "execution_count": 5,
   "id": "d063a74c-2574-4c9d-a582-8c4cd762d8e8",
   "metadata": {},
   "outputs": [],
   "source": [
    "def page_source(link):\n",
    "    \n",
    "    options = Options()\n",
    "    options.add_argument('--headless') \n",
    "\n",
    "\n",
    "    prefs = {\"profile.managed_default_content_settings.images\" : 2,\n",
    "             \"profile.default_content_setting_values.cookies\":2,\n",
    "             \"profile.default_content_setting_values.notifications\": 2}\n",
    "    options.add_experimental_option(\"prefs\", prefs)\n",
    "    options.add_argument('--disable-popup-blocking')\n",
    "    options.add_argument('test-type')\n",
    "\n",
    "\n",
    "    driver = webdriver.Chrome(options=options)\n",
    "    con = driver.get(link)\n",
    "\n",
    "\n",
    "    cont = driver.find_element(by=By.XPATH, value='/html/body')\n",
    "    return driver\n",
    "    \n"
   ]
  },
  {
   "cell_type": "markdown",
   "id": "8439b948-7b63-4a86-a4ba-395ef8264a8b",
   "metadata": {},
   "source": [
    "#### MAIN CLEANING"
   ]
  },
  {
   "cell_type": "code",
   "execution_count": 13,
   "id": "9941c629-ecf7-49ff-ac68-dea8fdcd06c3",
   "metadata": {},
   "outputs": [],
   "source": [
    "def main_cleaning(soup):\n",
    "    \n",
    "    decompose_tags = ['title','button','footer','nav']\n",
    "    \n",
    "    for i in decompose_tags:\n",
    "        dec = soup.find(i)\n",
    "        dec.decompose()\n",
    "        \n",
    "#     # LISTEN BUTTON \n",
    "#     dec = soup.find('div',{'id':'readspeaker_button1309'})\n",
    "#     dec.decompose()\n",
    "        \n",
    "    dec = soup.find('span',{'class':'mega-toggle-label-closed'})\n",
    "    dec.decompose()\n",
    "    dec = soup.find('span',{'class':'mega-toggle-label-open'})\n",
    "    dec.decompose()\n",
    "    \n",
    "    deco = soup.find('div',{'class':'bottom-column__why-cookies'})\n",
    "    deco.decompose() \n",
    "    deco = soup.find('div',{'class':'fl-rich-text'})\n",
    "    deco.decompose() \n",
    "    \n",
    "    # COOKIES REMOVE\n",
    "    for div in soup.find_all('div',{'class':'coi-banner__page'}):\n",
    "        div.decompose()\n",
    "        \n",
    "    dec = soup.find('div',{'id':'top-nav'})\n",
    "    dec.decompose()\n",
    "    dec = soup.find('div',{'id':'coi-banner-categories'})\n",
    "    dec.decompose()\n",
    "    \n",
    "    # SKIP TO CONTENT BUTTON\n",
    "    dec = soup.find('a',{'class':'skip-to-content-link'})\n",
    "    dec.decompose()\n",
    "    \n",
    "    # SEPARATOR /\n",
    "    for div in soup.find_all('li',{'class':'separator'}):\n",
    "        div.decompose()"
   ]
  },
  {
   "cell_type": "code",
   "execution_count": 23,
   "id": "540826ba-56eb-4a3c-9d40-bad50a47c409",
   "metadata": {},
   "outputs": [],
   "source": [
    "def custom_clean(soup):\n",
    "    # CUSTOM CLEANING\n",
    "    decompose_div_class_all = ['fl-row fl-row-full-width fl-row-bg-none fl-node-593155643379e fl-row-default-height fl-row-align-center small',\n",
    "                               'fl-module fl-module-rich-text fl-node-593157460b2d5', 'fl-module fl-module-rich-text fl-node-5bf5437aad993',\n",
    "                               'fl-module fl-module-rich-text fl-node-593157460b227', 'fl-module fl-module-rich-text fl-node-593157460b2d5',\n",
    "                               'widget widget_vfbp-widget']\n",
    "\n",
    "    for div in soup.find_all('span',{'class':'fl-button-text rs_skip'}):\n",
    "        div.decompose() \n",
    "\n",
    "    soup.find_all('span',{'class':'fl-callout-title-text'})[2].decompose()\n",
    "\n",
    "    for i in decompose_div_class_all:\n",
    "        for div in soup.find_all('div',{'class':i}):\n",
    "            div.decompose()\n",
    "\n",
    "    dec = soup.find('p',{'class':'fl-heading'})\n",
    "    dec.decompose() \n",
    "\n",
    "    for div in soup.find_all('p',{'class':'p2'}):\n",
    "         div.decompose()\n",
    "\n",
    "    # LISTEN BUTTON \n",
    "    dec = soup.find('div',{'id':'readspeaker_button1309'})\n",
    "    dec.decompose()"
   ]
  },
  {
   "cell_type": "code",
   "execution_count": 258,
   "id": "9fef7582-f01a-4673-a39a-3a74f64f5d17",
   "metadata": {},
   "outputs": [
    {
     "data": {
      "text/plain": [
       "\"\\n\\n\\n\\n\\n\\n\\n\\n\\n\\n\\n\\n\\n\\n\\n\\n\\n\\n\\n\\n\\n\\n\\n\\n\\n\\n\\n\\n\\n\\n\\n\\n\\n\\n\\n\\n\\n\\n\\n\\n\\n\\n\\n\\n\\n\\n\\n\\n\\n\\n\\n\\n\\n\\n\\n\\n\\n\\n\\n\\n\\n\\n\\n\\n\\n\\n\\n\\n\\n\\n\\n\\n\\n\\n\\n\\n\\n\\n\\n\\n\\n\\n\\n\\n\\n\\n\\n\\n\\n\\n\\n\\n\\n\\n\\n\\n\\n\\n\\n\\n\\n\\n\\n\\n\\n\\n\\n\\n\\n\\n\\n\\n\\n\\n\\n\\n\\n\\n\\n\\n\\n\\n\\n\\n\\n\\n\\n\\n\\n\\n\\n\\n\\n\\n\\n\\n\\n\\n\\n\\n\\n\\n\\n\\n\\n\\n\\n\\n\\n\\n\\n\\n\\n\\n\\n\\n\\n\\n\\n\\n\\n\\n\\n\\n\\n\\n\\n\\n\\n\\n\\n\\n\\n\\n\\n\\n\\n\\n\\n\\n\\n\\n\\n\\n\\n\\n\\n\\n\\n \\n\\n\\n\\n\\n\\n\\n \\n\\n\\n\\n\\n\\n\\n\\n\\n\\n\\n\\n\\n\\n\\n\\n\\n\\nSAMK Bachelor's Degrees\\n\\n\\n\\n\\n\\n\\n\\n\\n\\n\\n\\nSatakunta University of Applied Sciences, SAMK, offers Bachelor's Degree Programmes for Finnish and international students who have completed secondary education. The language of instruction is entirely in English.\\n\\n\\n\\n\\n\\n\\n\\n\\nAPPLY\\n\\n\\n\\n\\n\\n\\n\\n\\n\\n\\n\\n\\n\\n\\n\\n\\n\\n\\nSAMK Bachelor's Degree Programmes\\n\\n\\n\\n\\n\\n\\n\\n\\n\\n\\n\\n\\n\\n\\n\\n\\n\\n\\n\\nArtificial Intelligence \\nBachelor of Engineering\\n \\n\\n\\n\\n\\n\\n\\n\\n\\n\\n\\n\\n\\n\\n\\n\\nLogistics \\nBachelor of Engineering\\n \\n\\n\\n\\n\\n\\n\\n\\n\\n\\n\\n\\n\\n\\n\\n\\nPhysiotherapy \\nBachelor of Health Care\\n \\n\\n\\n\\n\\n\\n\\n\\n\\n\\n\\n\\n\\n\\n\\n\\n\\n\\n\\nInternational Business \\nBachelor of Business Administration\\n \\n\\n\\n\\n\\n\\n\\n\\n\\n\\n\\n\\n\\n\\n\\n\\nMechatronics  \\nBachelor of Engineering\\n \\n\\n\\n\\n\\n\\n\\n\\n\\n\\n\\n\\n\\n\\n\\n\\n\\n\\n\\nInternational Tourism Management \\nBachelor of Hospitality Management\\n \\n\\n\\n\\n\\n\\n\\n\\n\\n\\n\\n\\n\\n\\n\\n\\nNursing \\nBachelor of Health Care\\n \\n\\n\\n\\n\\n\\n\\n\\n\\n\\n\\n\\n\\n\\n\\n\\n\\n\\n\\n\\n\\n\\n\\n\\n\\n\\n\\n\\n\\n\\n\\n\\n\\n\\n\\n\\n\\n\\n\\n\\n\\n\\n\\n\\n\\n\\n\\n\\n\\n\\n\\n\\n\\n\\n\\n\\n\\n\\n\\n\\n\\n\\n\\n\\n\\n\\n\\n\\n\\n\\n\\n\\n\\nChoose Finland\\n\\n\\n\\n\\n\\n\\n\\n\\n\\nChoose Satakunta University of Applied Sciences\\n\\n\\n\\n\\n\\n\\n\\n\\n\\nTuition fees for non-EU/EEA students\\n\\n\\n\\n\\n\\n\\n\\n\\n\\nHow to Apply\\n\\n\\n\\n\\n\\n\\n\\n\\n\\nApply at Studyinfo.fi\\n\\n\\n\\n\\n\\n\\n\\n\\n\\n\\n\\n\\n\\n\\n\\n\\n\\n\\n\\n \\n\\n\\nWe offer \\n\\nHighest quality education at University of Applied Sciences (student feedback statistics 2009–2021 collected by Ministry of Culture and Education)\\nGood qualifications to find employment (the highest graduate employment rate outside the Metropolitan area, Statistics Finland)\\nThousands of contacts with the employment market and hundreds of opportunities for international cooperation (partners and contacts of SAMK)\\nModern campuses (new campus in Pori, renovated campus in Rauma and Kankaanpää Art School, which is the newest art school building in Finland)\\nMobile learning environments (BYOD–Bring your own device. Concept includes Wlan, printing, data protection, applications, IT classrooms, virtualization, LAN, user management, support etc.)\\nGood distance learning environments (The Hill concept can be used for example to provide online contact classes, give counselling, to work online and make recordings)\\n\\n\\n \\n\\n\\n\\n\\n\\n\\n\\n\\n\\n\\n\\n \\n\\n\\nWe expect \\n\\nWillingness to learn and be employed\\nOpenness to meet new people\\nCourage to study in projects related to work practice\\n\\n \\n\\n\\n\\n\\n\\n\\n\\n\\n\\n\\n\\n\\n\\n\\n\\n\\n\\n\\nWatch videos and learn more about the programs\\n\\xa0\\n\\n\\n\\n\\n\\n\\n\\n\\n\\n\\n\\n\\n\\n\\n\\n\\n\\nWelcome to SAMK!\\n\\n\\n\\n\\n\\n\\n\\n\\n\\n\\n\\n\\n\\n\\n\\nPresident of SAMK tells why you should come to Finland to study.\\n\\n\\n\\n\\n\\n\\n\\n\\n\\n\\n\\n\\n\\n\\n\\nGet to know the Degree Programme in International Tourism Management.\\n\\n\\n\\n\\n\\n\\n\\n\\n\\n\\n\\n\\n\\n\\n\\n\\n\\n\\n\\n\\n\\n\\n\\nGet to know the Degree Programme in Physiotherapy.\\n\\n\\n\\n\\n\\n\\n\\n\\n\\n\\n\\n\\n\\n\\n\\nGet to know the Degree Programme in Logistics.\\n\\n\\n\\n\\n\\n\\n\\n\\n\\n\\n\\n\\n\\n\\n\\nGet to know the Degree programme in Nursing.\\n\\n\\n\\n\\n\\n\\n\\n\\n\\n\\n\\n\\n\\n\\n\\n\\n\\n\\n \\n\\n\\nAsk more from SAMK Admissions Office \\n \\n\\n\\n\\n\\n\\n\\n\\n\\n\\n\\n\\n\\nContact information:\\n\\n\\n\\n\\n\\n\\n\\n\\n\\n\\n\\nSatakunta University of Applied Sciences\\nSatakunnankatu 23\\nFI-28130 Pori\\nFinland\\nadmissions@samk.fi\\n+358 (0)2 623 4801\\n\\n\\n\\n\\n\\n\\n\\n\\n\\n\\n\\n\\n\\n\\n\\nSend a message to SAMK Admissions OfficeIf you are human, leave this field blank.Nimi *E-mail *Which Degree Program is your message about? *Your message *Send the message\\n\\n\\n\\n\\n\\n\\n\\n\\n\\n\\n\\n\\n\\n\\n\\n\\n\\n\\n\\n\\n\\n\\n\\n\\n\\n\\n\\n\\n\\n\\n\\n\\n\\n\\n\\n\\n\\n\\n\\n\\n\\n\\n\\n\\n\\n\\n\\n  \\n\\n\\n\\n\\n\\n\\n\\n\\n\\n\\n\\n\\n\\n\\n\\n\\n\\n\\n\\n\\n\\n\\n\\n\\n\\n\\n\\n\\n\\n\\n\\n\\n\\n\\n\\n\""
      ]
     },
     "execution_count": 258,
     "metadata": {},
     "output_type": "execute_result"
    }
   ],
   "source": []
  },
  {
   "cell_type": "code",
   "execution_count": 7,
   "id": "51e1c427-573d-4c8c-afbf-c742531f76ab",
   "metadata": {},
   "outputs": [],
   "source": [
    "def clean_n(text):\n",
    "    text = re.sub('\\n+','',text)\n",
    "    #text = text.replace('.', '.\\n')\n",
    "    #text= re.sub(r'(?<=.)([A-Z])', r' \\1', text)\n",
    "    text = re.sub(r'([a-z])([A-Z]{2,})', r'\\1 \\2', text)\n",
    "    text = re.sub(r'([a-z])([A-Z])([A-Z])(?=[a-z])', r'\\1\\2 \\3', text)\n",
    "    return text"
   ]
  },
  {
   "cell_type": "code",
   "execution_count": 255,
   "id": "7dd7b406-675f-4ebb-a244-9b96769bc71a",
   "metadata": {},
   "outputs": [
    {
     "data": {
      "text/plain": [
       "\"  SAMK Bachelor's DegreesSatakunta University of Applied Sciences, SAMK, offers Bachelor's Degree Programmes for Finnish and international students who have completed secondary education.\\n The language of instruction is entirely in English.\\nSAMK Bachelor's Degree ProgrammesArtificial Intelligence Bachelor of Engineering Logistics Bachelor of Engineering Physiotherapy Bachelor of Health Care International Business Bachelor of Business Administration Mechatronics  Bachelor of Engineering International Tourism Management Bachelor of Hospitality Management Nursing Bachelor of Health Care  We offer Highest quality education at University of Applied Sciences (student feedback statistics 2009–2021 collected by Ministry of Culture and Education)Good qualifications to find employment (the highest graduate employment rate outside the Metropolitan area, Statistics Finland)Thousands of contacts with the employment market and hundreds of opportunities for international cooperation (partners and contacts of SAMK)Modern campuses (new campus in Pori, renovated campus in Rauma and Kankaanpää Art School, which is the newest art school building in Finland)Mobile learning environments (BYOD–Bring your own device.\\n Concept includes Wlan, printing, data protection, applications, IT classrooms, virtualization, LAN, user management, support etc.\\n)Good distance learning environments (The Hill concept can be used for example to provide online contact classes, give counselling, to work online and make recordings)  We expect Willingness to learn and be employedOpenness to meet new peopleCourage to study in projects related to work practice      \""
      ]
     },
     "execution_count": 255,
     "metadata": {},
     "output_type": "execute_result"
    }
   ],
   "source": [
    "text"
   ]
  },
  {
   "cell_type": "code",
   "execution_count": 8,
   "id": "bfa75af5-1801-4228-8a95-dabc99be758d",
   "metadata": {},
   "outputs": [],
   "source": [
    "def make_file(name,text):\n",
    "    with open(f'all_pages/{name}.txt','w') as file:\n",
    "        file.write(text)"
   ]
  },
  {
   "cell_type": "code",
   "execution_count": 241,
   "id": "fcd2fa31-5777-482a-b6f5-e0b23820f8fa",
   "metadata": {},
   "outputs": [],
   "source": [
    "#print(driver.page_source)"
   ]
  },
  {
   "cell_type": "code",
   "execution_count": null,
   "id": "99ae329e-fbe0-407a-9e9e-55fa1b953e4f",
   "metadata": {},
   "outputs": [],
   "source": []
  }
 ],
 "metadata": {
  "kernelspec": {
   "display_name": "Python 3 (ipykernel)",
   "language": "python",
   "name": "python3"
  },
  "language_info": {
   "codemirror_mode": {
    "name": "ipython",
    "version": 3
   },
   "file_extension": ".py",
   "mimetype": "text/x-python",
   "name": "python",
   "nbconvert_exporter": "python",
   "pygments_lexer": "ipython3",
   "version": "3.8.10"
  }
 },
 "nbformat": 4,
 "nbformat_minor": 5
}
